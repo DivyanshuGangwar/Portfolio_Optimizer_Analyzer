{
 "cells": [
  {
   "cell_type": "code",
   "execution_count": null,
   "metadata": {
    "colab": {
     "base_uri": "https://localhost:8080/"
    },
    "executionInfo": {
     "elapsed": 5010,
     "status": "ok",
     "timestamp": 1754882478637,
     "user": {
      "displayName": "DIVYANSHU GANGWAR",
      "userId": "17365006741404028396"
     },
     "user_tz": -330
    },
    "id": "l96VuZQRXe4Y",
    "outputId": "015e104d-87c9-40a2-d481-284c64fffd35"
   },
   "outputs": [],
   "source": [
    "!pip install yfinance --user\n",
    "!pip install reportlab --user\n",
    "!pip install matplotlib --user\n",
    "!pip install seaborn --user\n",
    "!pip install openai -- user\n",
    "!pip install pandas -- user\n",
    "!pip install lxml --user\n",
    "!pip install reportlab --user\n",
    "!pip install PyPDF2 --user"
   ]
  },
  {
   "cell_type": "code",
   "execution_count": null,
   "metadata": {
    "colab": {
     "base_uri": "https://localhost:8080/"
    },
    "executionInfo": {
     "elapsed": 32,
     "status": "ok",
     "timestamp": 1754905573075,
     "user": {
      "displayName": "DIVYANSHU GANGWAR",
      "userId": "17365006741404028396"
     },
     "user_tz": -330
    },
    "id": "F1S1_r0HQ2gX",
    "outputId": "5e5729af-7446-495b-9627-e767ce10f1ce"
   },
   "outputs": [],
   "source": [
    "%reload_ext autoreload\n",
    "%autoreload 2\n",
    "\n",
    "import warnings\n",
    "from main import MainTool\n",
    "\n",
    "warnings.filterwarnings(\"ignore\")\n",
    "\n",
    "\n",
    "%matplotlib inline\n",
    "%config InlineBackend.figure_format='retina'\n",
    "\n"
   ]
  },
  {
   "cell_type": "code",
   "execution_count": null,
   "metadata": {
    "colab": {
     "base_uri": "https://localhost:8080/",
     "height": 297
    },
    "executionInfo": {
     "elapsed": 36,
     "status": "error",
     "timestamp": 1754905581384,
     "user": {
      "displayName": "DIVYANSHU GANGWAR",
      "userId": "17365006741404028396"
     },
     "user_tz": -330
    },
    "id": "shb15fK0epzM",
    "outputId": "6815f95c-c711-46e5-f400-9050d58feb81"
   },
   "outputs": [],
   "source": [
    "main_obj = MainTool()"
   ]
  },
  {
   "cell_type": "code",
   "execution_count": null,
   "metadata": {},
   "outputs": [],
   "source": [
    "#executing the main function, returns generated portfolio and generates final report 'final_report'\n",
    "portfolio = main_obj.main(portfolio_amount = 100000)"
   ]
  },
  {
   "cell_type": "code",
   "execution_count": null,
   "metadata": {},
   "outputs": [],
   "source": [
    "portfolio.to_csv('portfolio_allocation.csv', header = True, index = False)"
   ]
  }
 ],
 "metadata": {
  "colab": {
   "authorship_tag": "ABX9TyMmmK1LVcVtVeYluA+9SlBh",
   "provenance": []
  },
  "kernelspec": {
   "display_name": "Python 3",
   "language": "python",
   "name": "python3"
  },
  "language_info": {
   "codemirror_mode": {
    "name": "ipython",
    "version": 3
   },
   "file_extension": ".py",
   "mimetype": "text/x-python",
   "name": "python",
   "nbconvert_exporter": "python",
   "pygments_lexer": "ipython3",
   "version": "3.12.0"
  }
 },
 "nbformat": 4,
 "nbformat_minor": 0
}
